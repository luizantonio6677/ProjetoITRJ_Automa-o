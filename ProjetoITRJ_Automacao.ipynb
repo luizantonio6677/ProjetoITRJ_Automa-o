{
 "cells": [
  {
   "cell_type": "code",
   "execution_count": 1,
   "id": "7b8a2d8b",
   "metadata": {
    "colab": {
     "base_uri": "https://localhost:8080/"
    },
    "id": "7b8a2d8b",
    "outputId": "6462bd87-9d90-41bb-d93b-1c05dbff626d",
    "scrolled": false
   },
   "outputs": [
    {
     "name": "stdout",
     "output_type": "stream",
     "text": [
      "Looking in indexes: https://pypi.org/simple, https://us-python.pkg.dev/colab-wheels/public/simple/\n",
      "Collecting tabula-py\n",
      "  Downloading tabula_py-2.6.0-py3-none-any.whl (12.0 MB)\n",
      "\u001b[2K     \u001b[90m━━━━━━━━━━━━━━━━━━━━━━━━━━━━━━━━━━━━━━━━\u001b[0m \u001b[32m12.0/12.0 MB\u001b[0m \u001b[31m48.0 MB/s\u001b[0m eta \u001b[36m0:00:00\u001b[0m\n",
      "\u001b[?25hCollecting distro\n",
      "  Downloading distro-1.8.0-py3-none-any.whl (20 kB)\n",
      "Requirement already satisfied: pandas>=0.25.3 in /usr/local/lib/python3.8/dist-packages (from tabula-py) (1.3.5)\n",
      "Requirement already satisfied: numpy in /usr/local/lib/python3.8/dist-packages (from tabula-py) (1.21.6)\n",
      "Requirement already satisfied: python-dateutil>=2.7.3 in /usr/local/lib/python3.8/dist-packages (from pandas>=0.25.3->tabula-py) (2.8.2)\n",
      "Requirement already satisfied: pytz>=2017.3 in /usr/local/lib/python3.8/dist-packages (from pandas>=0.25.3->tabula-py) (2022.7)\n",
      "Requirement already satisfied: six>=1.5 in /usr/local/lib/python3.8/dist-packages (from python-dateutil>=2.7.3->pandas>=0.25.3->tabula-py) (1.15.0)\n",
      "Installing collected packages: distro, tabula-py\n",
      "Successfully installed distro-1.8.0 tabula-py-2.6.0\n"
     ]
    }
   ],
   "source": [
    "pip install tabula-py"
   ]
  },
  {
   "cell_type": "code",
   "execution_count": 2,
   "id": "4ff088f0",
   "metadata": {
    "colab": {
     "base_uri": "https://localhost:8080/"
    },
    "id": "4ff088f0",
    "outputId": "57db6eaa-8171-4fad-edee-f19eea9f66c9"
   },
   "outputs": [
    {
     "name": "stdout",
     "output_type": "stream",
     "text": [
      "Looking in indexes: https://pypi.org/simple, https://us-python.pkg.dev/colab-wheels/public/simple/\n",
      "Requirement already satisfied: openpyxl in /usr/local/lib/python3.8/dist-packages (3.0.10)\n",
      "Requirement already satisfied: et-xmlfile in /usr/local/lib/python3.8/dist-packages (from openpyxl) (1.1.0)\n"
     ]
    }
   ],
   "source": [
    "pip install openpyxl"
   ]
  },
  {
   "cell_type": "code",
   "execution_count": 48,
   "id": "a359ab6c",
   "metadata": {},
   "outputs": [
    {
     "name": "stdout",
     "output_type": "stream",
     "text": [
      "Defaulting to user installation because normal site-packages is not writeable\n",
      "Requirement already satisfied: pyautogui in c:\\users\\mega lite 3.0\\appdata\\roaming\\python\\python39\\site-packages (0.9.53)\n",
      "Requirement already satisfied: pyscreeze>=0.1.21 in c:\\users\\mega lite 3.0\\appdata\\roaming\\python\\python39\\site-packages (from pyautogui) (0.1.28)\n",
      "Requirement already satisfied: mouseinfo in c:\\users\\mega lite 3.0\\appdata\\roaming\\python\\python39\\site-packages (from pyautogui) (0.1.3)\n",
      "Requirement already satisfied: pygetwindow>=0.0.5 in c:\\users\\mega lite 3.0\\appdata\\roaming\\python\\python39\\site-packages (from pyautogui) (0.0.9)\n",
      "Requirement already satisfied: PyTweening>=1.0.1 in c:\\users\\mega lite 3.0\\appdata\\roaming\\python\\python39\\site-packages (from pyautogui) (1.0.4)\n",
      "Requirement already satisfied: pymsgbox in c:\\users\\mega lite 3.0\\appdata\\roaming\\python\\python39\\site-packages (from pyautogui) (1.0.9)\n",
      "Requirement already satisfied: pyrect in c:\\users\\mega lite 3.0\\appdata\\roaming\\python\\python39\\site-packages (from pygetwindow>=0.0.5->pyautogui) (0.2.0)\n",
      "Requirement already satisfied: pyperclip in c:\\users\\mega lite 3.0\\appdata\\roaming\\python\\python39\\site-packages (from mouseinfo->pyautogui) (1.8.2)\n",
      "Note: you may need to restart the kernel to use updated packages.\n"
     ]
    },
    {
     "name": "stderr",
     "output_type": "stream",
     "text": [
      "WARNING: You are using pip version 21.2.3; however, version 23.0.1 is available.\n",
      "You should consider upgrading via the 'c:\\Program Files (x86)\\Microsoft Visual Studio\\Shared\\Python39_64\\python.exe -m pip install --upgrade pip' command.\n"
     ]
    }
   ],
   "source": [
    "pip install pyautogui "
   ]
  },
  {
   "cell_type": "code",
   "execution_count": 24,
   "id": "107c796c",
   "metadata": {
    "colab": {
     "base_uri": "https://localhost:8080/",
     "height": 380
    },
    "id": "107c796c",
    "outputId": "b6c0c5cd-12f4-4db5-e30e-4d646a850707",
    "scrolled": false
   },
   "outputs": [
    {
     "name": "stdout",
     "output_type": "stream",
     "text": [
      "2\n"
     ]
    },
    {
     "data": {
      "text/html": [
       "<div>\n",
       "<style scoped>\n",
       "    .dataframe tbody tr th:only-of-type {\n",
       "        vertical-align: middle;\n",
       "    }\n",
       "\n",
       "    .dataframe tbody tr th {\n",
       "        vertical-align: top;\n",
       "    }\n",
       "\n",
       "    .dataframe thead th {\n",
       "        text-align: right;\n",
       "    }\n",
       "</style>\n",
       "<table border=\"1\" class=\"dataframe\">\n",
       "  <thead>\n",
       "    <tr style=\"text-align: right;\">\n",
       "      <th></th>\n",
       "      <th>Item</th>\n",
       "      <th>Qtde</th>\n",
       "    </tr>\n",
       "  </thead>\n",
       "  <tbody>\n",
       "    <tr>\n",
       "      <th>0</th>\n",
       "      <td>MALHA POP 4.2MM (20X20) 2X3M</td>\n",
       "      <td>20,000</td>\n",
       "    </tr>\n",
       "    <tr>\n",
       "      <th>1</th>\n",
       "      <td>TRELIÇA H8 - 8 MT</td>\n",
       "      <td>80,000</td>\n",
       "    </tr>\n",
       "    <tr>\n",
       "      <th>2</th>\n",
       "      <td>TRELIÇA H8 - 9 MT</td>\n",
       "      <td>90,000</td>\n",
       "    </tr>\n",
       "    <tr>\n",
       "      <th>3</th>\n",
       "      <td>TRELIÇA H8 - 7 MT</td>\n",
       "      <td>130,000</td>\n",
       "    </tr>\n",
       "    <tr>\n",
       "      <th>4</th>\n",
       "      <td>COLUNA ABERTA 1/4 28EST (7 X 20 ) COM 6MTS</td>\n",
       "      <td>200,000</td>\n",
       "    </tr>\n",
       "    <tr>\n",
       "      <th>5</th>\n",
       "      <td>VERGALHÃO DOBRADO 6.3 MM 1/4 12 MT (CA50)</td>\n",
       "      <td>240,000</td>\n",
       "    </tr>\n",
       "  </tbody>\n",
       "</table>\n",
       "</div>"
      ],
      "text/plain": [
       "                                         Item     Qtde\n",
       "0                MALHA POP 4.2MM (20X20) 2X3M   20,000\n",
       "1                           TRELIÇA H8 - 8 MT   80,000\n",
       "2                           TRELIÇA H8 - 9 MT   90,000\n",
       "3                           TRELIÇA H8 - 7 MT  130,000\n",
       "4  COLUNA ABERTA 1/4 28EST (7 X 20 ) COM 6MTS  200,000\n",
       "5   VERGALHÃO DOBRADO 6.3 MM 1/4 12 MT (CA50)  240,000"
      ]
     },
     "metadata": {},
     "output_type": "display_data"
    },
    {
     "data": {
      "text/html": [
       "<div>\n",
       "<style scoped>\n",
       "    .dataframe tbody tr th:only-of-type {\n",
       "        vertical-align: middle;\n",
       "    }\n",
       "\n",
       "    .dataframe tbody tr th {\n",
       "        vertical-align: top;\n",
       "    }\n",
       "\n",
       "    .dataframe thead th {\n",
       "        text-align: right;\n",
       "    }\n",
       "</style>\n",
       "<table border=\"1\" class=\"dataframe\">\n",
       "  <thead>\n",
       "    <tr style=\"text-align: right;\">\n",
       "      <th></th>\n",
       "      <th>Item</th>\n",
       "      <th>Qtde</th>\n",
       "    </tr>\n",
       "  </thead>\n",
       "  <tbody>\n",
       "    <tr>\n",
       "      <th>0</th>\n",
       "      <td>COLUNA PRONTA 1/4 6,3 MM 28 EST. (7 X 20 X 6MTS)</td>\n",
       "      <td>50,000</td>\n",
       "    </tr>\n",
       "    <tr>\n",
       "      <th>1</th>\n",
       "      <td>MALHA POP 3.4MM (20X20) 2X3M</td>\n",
       "      <td>50,000</td>\n",
       "    </tr>\n",
       "    <tr>\n",
       "      <th>2</th>\n",
       "      <td>TRELIÇA H8 - 9 MT</td>\n",
       "      <td>100,000</td>\n",
       "    </tr>\n",
       "    <tr>\n",
       "      <th>3</th>\n",
       "      <td>VERGALHÃO DOBRADO 6.3 MM 1/4 12 MT (CA50)</td>\n",
       "      <td>100,000</td>\n",
       "    </tr>\n",
       "    <tr>\n",
       "      <th>4</th>\n",
       "      <td>VERGALHÃO DOBRADO 8,0 MM 5/16 12 MT (CA50)</td>\n",
       "      <td>100,000</td>\n",
       "    </tr>\n",
       "    <tr>\n",
       "      <th>5</th>\n",
       "      <td>VERGALHÃO DOBRADO 3/16 12 MT (CA60)</td>\n",
       "      <td>100,000</td>\n",
       "    </tr>\n",
       "  </tbody>\n",
       "</table>\n",
       "</div>"
      ],
      "text/plain": [
       "                                               Item     Qtde\n",
       "0  COLUNA PRONTA 1/4 6,3 MM 28 EST. (7 X 20 X 6MTS)   50,000\n",
       "1                      MALHA POP 3.4MM (20X20) 2X3M   50,000\n",
       "2                                 TRELIÇA H8 - 9 MT  100,000\n",
       "3         VERGALHÃO DOBRADO 6.3 MM 1/4 12 MT (CA50)  100,000\n",
       "4        VERGALHÃO DOBRADO 8,0 MM 5/16 12 MT (CA50)  100,000\n",
       "5               VERGALHÃO DOBRADO 3/16 12 MT (CA60)  100,000"
      ]
     },
     "metadata": {},
     "output_type": "display_data"
    }
   ],
   "source": [
    "#_*_ coding: utf-8 _*_\n",
    "\n",
    "import tabula \n",
    "import pandas as pd \n",
    "from openpyxl import Workbook, load_workbook   \n",
    "from tkinter import filedialog \n",
    "from datetime import date\n",
    "\n",
    "data_atual = date.today()\n",
    "\n",
    "caminho_arquivo = filedialog.askopenfilenames()    \n",
    "\n",
    "lista_tabelas = tabula.read_pdf(caminho_arquivo[0], area=[164.135,1.117,601.827,594.383], pages=\"all\", stream=True, guess=True) \n",
    "\n",
    "lista_romaneio = lista_tabelas\n",
    "\n",
    "x = len(lista_tabelas)\n",
    "y = len(lista_romaneio)\n",
    "\n",
    "print(y)   \n",
    "\n",
    "if x == 0: \n",
    "    x = 1\n",
    "    lista_tabelas = tabula.read_pdf(caminho_arquivo[0], area=[164.135,1.117,601.827,594.383], pages=\"all\", stream=True, guess=True) \n",
    "    \n",
    "    lista_romaneio = lista_tabelas\n",
    "    \n",
    "    display(lista_tabelas) \n",
    "\n",
    "\n",
    "for i in range(0, x): \n",
    "    lista_romaneio[i] = lista_tabelas[i]\n",
    "    \n",
    "    \n",
    "for i in range(0, x):  \n",
    "    \n",
    "    \n",
    "    y = len(lista_tabelas[i].index)  \n",
    "    \n",
    "    if pd.isnull(lista_tabelas[i].loc[0, \"Item\"]) == True: \n",
    "    \n",
    "        lista_tabelas[i][\"Item\"] = lista_tabelas[i][\"Unnamed: 0\"] \n",
    "    \n",
    "        if pd.isnull(lista_tabelas[i].loc[y - 1, \"Item\"]) == True: \n",
    "        \n",
    "            display(lista_tabelas[i].loc[0:y-2, [\"Item\", \"Qtde\"]])\n",
    "            lista_tabelas[i] = lista_tabelas[i].loc[0:y-2, [\"Item\", \"Qtde\"]] \n",
    "            lista_romaneio[i] = lista_tabelas[i] \n",
    "            print(1)\n",
    "        \n",
    "        else:\n",
    "            display(lista_tabelas[i].loc[0: , [\"Item\", \"Qtde\"]]) \n",
    "            lista_tabelas[i] = lista_tabelas[i].loc[0: , [\"Item\", \"Qtde\"]]\n",
    "            lista_romaneio[i] = lista_tabelas[i] \n",
    "    else: \n",
    "        if pd.isnull(lista_tabelas[i].loc[y - 1, \"Item\"]) == True: \n",
    "            display(lista_tabelas[i].loc[0:y-2, [\"Item\", \"Qtde\"]])\n",
    "            lista_tabelas[i] = lista_tabelas[i].loc[0:y-2, [\"Item\", \"Qtde\"]]     \n",
    "            lista_romaneio[i] = lista_tabelas[i]  \n",
    "        \n",
    "        else: \n",
    "            lista_romaneio[i] = lista_tabelas[i]\n",
    "\n",
    "tabela_final = pd.concat(lista_romaneio, ignore_index=True)  \n"
   ]
  },
  {
   "cell_type": "code",
   "execution_count": 25,
   "id": "b9f8fd25",
   "metadata": {},
   "outputs": [
    {
     "data": {
      "text/html": [
       "<div>\n",
       "<style scoped>\n",
       "    .dataframe tbody tr th:only-of-type {\n",
       "        vertical-align: middle;\n",
       "    }\n",
       "\n",
       "    .dataframe tbody tr th {\n",
       "        vertical-align: top;\n",
       "    }\n",
       "\n",
       "    .dataframe thead th {\n",
       "        text-align: right;\n",
       "    }\n",
       "</style>\n",
       "<table border=\"1\" class=\"dataframe\">\n",
       "  <thead>\n",
       "    <tr style=\"text-align: right;\">\n",
       "      <th></th>\n",
       "      <th>Material</th>\n",
       "      <th>Quantidade</th>\n",
       "    </tr>\n",
       "  </thead>\n",
       "  <tbody>\n",
       "    <tr>\n",
       "      <th>0</th>\n",
       "      <td>0</td>\n",
       "      <td>0.0</td>\n",
       "    </tr>\n",
       "    <tr>\n",
       "      <th>1</th>\n",
       "      <td>MALHA POP 4.2MM (20X20) 2X3M</td>\n",
       "      <td>20.0</td>\n",
       "    </tr>\n",
       "    <tr>\n",
       "      <th>2</th>\n",
       "      <td>TRELIÇA H8 - 8 MT</td>\n",
       "      <td>80.0</td>\n",
       "    </tr>\n",
       "    <tr>\n",
       "      <th>3</th>\n",
       "      <td>TRELIÇA H8 - 9 MT</td>\n",
       "      <td>190.0</td>\n",
       "    </tr>\n",
       "    <tr>\n",
       "      <th>4</th>\n",
       "      <td>TRELIÇA H8 - 7 MT</td>\n",
       "      <td>130.0</td>\n",
       "    </tr>\n",
       "    <tr>\n",
       "      <th>5</th>\n",
       "      <td>COLUNA ABERTA 1/4 28EST (7 X 20 ) COM 6MTS</td>\n",
       "      <td>200.0</td>\n",
       "    </tr>\n",
       "    <tr>\n",
       "      <th>6</th>\n",
       "      <td>VERGALHÃO DOBRADO 6.3 MM 1/4 12 MT (CA50)</td>\n",
       "      <td>340.0</td>\n",
       "    </tr>\n",
       "    <tr>\n",
       "      <th>7</th>\n",
       "      <td>COLUNA PRONTA 1/4 6,3 MM 28 EST. (7 X 20 X 6MTS)</td>\n",
       "      <td>50.0</td>\n",
       "    </tr>\n",
       "    <tr>\n",
       "      <th>8</th>\n",
       "      <td>MALHA POP 3.4MM (20X20) 2X3M</td>\n",
       "      <td>50.0</td>\n",
       "    </tr>\n",
       "    <tr>\n",
       "      <th>9</th>\n",
       "      <td>VERGALHÃO DOBRADO 8,0 MM 5/16 12 MT (CA50)</td>\n",
       "      <td>100.0</td>\n",
       "    </tr>\n",
       "    <tr>\n",
       "      <th>10</th>\n",
       "      <td>VERGALHÃO DOBRADO 3/16 12 MT (CA60)</td>\n",
       "      <td>100.0</td>\n",
       "    </tr>\n",
       "  </tbody>\n",
       "</table>\n",
       "</div>"
      ],
      "text/plain": [
       "                                            Material  Quantidade\n",
       "0                                                  0         0.0\n",
       "1                       MALHA POP 4.2MM (20X20) 2X3M        20.0\n",
       "2                                  TRELIÇA H8 - 8 MT        80.0\n",
       "3                                  TRELIÇA H8 - 9 MT       190.0\n",
       "4                                  TRELIÇA H8 - 7 MT       130.0\n",
       "5         COLUNA ABERTA 1/4 28EST (7 X 20 ) COM 6MTS       200.0\n",
       "6          VERGALHÃO DOBRADO 6.3 MM 1/4 12 MT (CA50)       340.0\n",
       "7   COLUNA PRONTA 1/4 6,3 MM 28 EST. (7 X 20 X 6MTS)        50.0\n",
       "8                       MALHA POP 3.4MM (20X20) 2X3M        50.0\n",
       "9         VERGALHÃO DOBRADO 8,0 MM 5/16 12 MT (CA50)       100.0\n",
       "10               VERGALHÃO DOBRADO 3/16 12 MT (CA60)       100.0"
      ]
     },
     "execution_count": 25,
     "metadata": {},
     "output_type": "execute_result"
    }
   ],
   "source": [
    "# Projeto Soma de Romaneios \n",
    "\n",
    "# Calcula as quantidades dos itens que saíram para entrega\n",
    "\n",
    "# Preenche o Item \n",
    "\n",
    "# pega o tamanho da tabela final \n",
    "x = len(tabela_final.index)\n",
    "\n",
    "# Faz uma lista com os produtos e suas quantidades\n",
    "lista_produtos = [0] \n",
    "lista_qtd = [0]\n",
    "\n",
    "# Pega a posição de casda ítem da tabela final\n",
    "inc = 0 \n",
    "\n",
    "for i in range(0, x): \n",
    "    \n",
    "    produto = tabela_final.loc[inc, \"Item\"]\n",
    "    \n",
    "    tamanho_lista = len(lista_produtos) \n",
    "    \n",
    "    for j in range(0, tamanho_lista): \n",
    "        \n",
    "        j1 = j + 1\n",
    "        \n",
    "        if tamanho_lista == j1: \n",
    "\n",
    "            lista_produtos.append(produto) \n",
    "            lista_qtd.append(float(tabela_final.loc[inc, \"Qtde\"].replace(',','.')))\n",
    "            \n",
    "            \n",
    "        elif produto == lista_produtos[j]: \n",
    "            \n",
    "            quantidade = float(tabela_final.loc[inc, \"Qtde\"].replace(',','.'))\n",
    "            \n",
    "            lista_qtd[j] += quantidade \n",
    "\n",
    "            break \n",
    "    \n",
    "    inc += 1  \n",
    "\n",
    "\n",
    "tabela = pd.DataFrame(data = zip(lista_produtos, lista_qtd), columns=[\"Material\", \"Quantidade\"])  \n",
    "\n",
    "tabela"
   ]
  },
  {
   "cell_type": "code",
   "execution_count": 26,
   "id": "d58159f5",
   "metadata": {
    "id": "d58159f5"
   },
   "outputs": [
    {
     "name": "stdout",
     "output_type": "stream",
     "text": [
      "[0, 'MALHA POP 4MM', 'TRELIÇA H8 - 8 MT', 'TRELIÇA H8 - 9 MT', 'TRELIÇA H8 - 7 MT', 'COLUNA 1/4 ABERTA 28E', 'VERG. DOBRADO 12M 1/4(6.3)', 'COLUNA 1/4 FECHADA 28E', 'MALHA POP 3.4MM', 'VERG. DOBRADO 12M 5/16(8)', 'VERG. DOBRADO 12M 3/16']\n",
      "[0, 20.0, 80.0, 190.0, 130.0, 200.0, 340.0, 50.0, 50.0, 100.0, 100.0]\n"
     ]
    }
   ],
   "source": [
    "# Fazer substituição de nome dos itens para o preechimento certo na planilha \n",
    "# e fazer os lançamentos das saídas no estoque  \n",
    "\n",
    "lista_unicode = [\"VERGALHÃO DOBRADO 3/16 12 MT (CA60)\" , \"VERGALHÃO DOBRADO 6.3 MM 1/4 12 MT (CA50)\", \"VERGALHÃO DOBRADO 8,0 MM 5/16 12 MT (CA50)\", \"VERGALHÃO DOBRADO 10,0 MM 3/8 12 MT (CA50)\", \"VERGALHÃO DOBRADO 12,5 MM 1/2 12 MT (CA50)\", \"COLUNA PRONTA 1/4 6,3 MM 28 EST. (7 X 20 X 6MTS)\", \"COLUNA PRONTA 5/16 8,00MM 28 EST. (7 X 20 X 6MTS)\", \"COLUNA PRONTA 3/8 10MM 28 EST. (7 X 20 X 6MTS)\", \"TRELIÇA H8 - 6 MT\", \"TRELIÇA H8 - 7 MT\", \"TRELIÇA H8 - 8 MT\", \"TRELIÇA H8 - 9 MT\", \"TRELIÇA H8 - 10 MT\", \"TRELIÇA H8 - 11 MT\", \"TRELIÇA H8 - 12 MT\", \"MALHA POP 3.4MM (20X20) 2X3M\", \"MALHA POP 4.2MM (20X20) 2X3M\", \"COLUNA ABERTA 1/4 28EST (7 X 20 ) COM 6MTS\", \"COLUNA ABERTA 5/16 28EST (7 X 20 ) COM 6MTS\", \"COLUNA ABERTA 3/8 28EST (7 X 20 ) COM 6MTS\"] \n",
    "lista_estoque = [\"VERG. DOBRADO 12M 3/16\", \"VERG. DOBRADO 12M 1/4(6.3)\", \"VERG. DOBRADO 12M 5/16(8)\", \"VERG. DOBRADO 12M 3/8(10)\", \"VERG. DOBRADO 12M 1/2(12)\", \"COLUNA 1/4 FECHADA 28E\", \"COLUNA 5/16 FECHADA 28E\", \"COLUNA 3/8 FECHADA 28E\", \"TRELIÇA H8 - 6 MT\", \"TRELIÇA H8 - 7 MT\", \"TRELIÇA H8 - 8 MT\", \"TRELIÇA H8 - 9 MT\", \"TRELIÇA H8 - 10 MT\", \"TRELIÇA H8 - 11 MT\", \"TRELIÇA H8 - 12 MT\", \"MALHA POP 3.4MM\", \"MALHA POP 4MM\", \"COLUNA 1/4 ABERTA 28E\", \"COLUNA 5/16 ABERTA 28E\", \"COLUNA 3/8 ABERTA 28E\"]  \n",
    "\n",
    "tamanho_lista = len(lista_produtos)\n",
    "\n",
    "for i in range(1, tamanho_lista): \n",
    "    \n",
    "    indice = lista_unicode.index(lista_produtos[i])\n",
    "    \n",
    "    lista_produtos[i] = lista_estoque[indice]\n",
    "\n",
    "print(lista_produtos) \n",
    "print(lista_qtd)\n",
    "\n"
   ]
  },
  {
   "cell_type": "code",
   "execution_count": 23,
   "id": "d103ca2d",
   "metadata": {},
   "outputs": [],
   "source": [
    "#Automção que preenche automaticamente a planilha do excel com as saídas do dia\n",
    "\n",
    "import pyautogui  \n",
    "import pyperclip\n",
    "\n",
    "#Abrir o estoque no sistema \n",
    "\n",
    "pyautogui.PAUSE = 3.5\n",
    "\n",
    "pyautogui.press(\"win\") \n",
    "pyautogui.write(\"estoque inicial\")   \n",
    "pyautogui.press(\"enter\")\n",
    "\n",
    "x = len(lista_produtos)\n",
    "\n",
    "for i in range(1, x):  \n",
    "    \n",
    "    #clicar na pesquisa do funil\n",
    "    pyautogui.click(x=222, y=288) \n",
    "    \n",
    "    #clica na pesquisa do funil\n",
    "    pyautogui.click(x=287, y=488)\n",
    "    \n",
    "    pyperclip.copy(lista_produtos[i])\n",
    "\n",
    "    pyautogui.hotkey(\"ctrl\", \"v\")  \n",
    "    \n",
    "    pyautogui.press(\"enter\") \n",
    "\n",
    "    pyautogui.scroll(200)\n",
    "    \n",
    "    #clicar no primeiro quadrado do dia\n",
    "    pyautogui.click(x=271, y=313)    \n",
    "    \n",
    "    pyautogui.PAUSE = 0.05\n",
    "    \n",
    "    # faz a seleção do dia\n",
    "    for j in range(0, 29): \n",
    "        pyautogui.press(\"right\") \n",
    "    \n",
    "    texto = str(lista_qtd[i])\n",
    "    loc = texto.find(\".\") \n",
    "\n",
    "    pyautogui.write(texto[0:loc])\n",
    "    \n",
    "    for h in range(0, 29): \n",
    "        pyautogui.press(\"left\") \n",
    "    \n",
    "    pyautogui.PAUSE = 0.0001\n"
   ]
  },
  {
   "cell_type": "code",
   "execution_count": null,
   "id": "d6f3da50",
   "metadata": {},
   "outputs": [],
   "source": [
    "# Automação que faz o romaneio de retira e imprimi automaticamente \n",
    "\n",
    "# 1 - Abrir a área de trabalho \n",
    "# 2 - Abrir a pasta de documentos \n",
    "# 3 - digitar o link de onde está a planilha gerada do romaneio \n"
   ]
  },
  {
   "cell_type": "code",
   "execution_count": null,
   "id": "664304a8",
   "metadata": {
    "id": "664304a8"
   },
   "outputs": [],
   "source": []
  }
 ],
 "metadata": {
  "colab": {
   "provenance": []
  },
  "kernelspec": {
   "display_name": "Python 3",
   "language": "python",
   "name": "python3"
  },
  "language_info": {
   "codemirror_mode": {
    "name": "ipython",
    "version": 3
   },
   "file_extension": ".py",
   "mimetype": "text/x-python",
   "name": "python",
   "nbconvert_exporter": "python",
   "pygments_lexer": "ipython3",
   "version": "3.9.7"
  },
  "vscode": {
   "interpreter": {
    "hash": "c347c8f9a7ef94e4c9e03b4513be7835ed18f45b99a2a817fb579f408b867b16"
   }
  }
 },
 "nbformat": 4,
 "nbformat_minor": 5
}
